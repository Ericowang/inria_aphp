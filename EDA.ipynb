{
 "cells": [
  {
   "cell_type": "code",
   "execution_count": 1,
   "metadata": {},
   "outputs": [],
   "source": [
    "import pandas as pd\n",
    "from sqlalchemy import create_engine\n",
    "import numpy as np\n",
    "import matplotlib.pyplot as plt\n",
    "import seaborn as sns\n",
    "import time\n",
    "\n",
    "import detect_duplicate as dd\n",
    "\n",
    "engine = create_engine('sqlite:///data.db', echo=False)\n",
    "con = engine.connect()\n",
    "df_patient = pd.read_sql('select * from patient', con=con)\n",
    "df_pcr = pd.read_sql('select * from test', con=con)\n",
    "con.close()"
   ]
  },
  {
   "cell_type": "markdown",
   "metadata": {},
   "source": [
    "#### Sommaire\n",
    "\n",
    "<ul>\n",
    "  <li><a href=\"#pres\">Présentation des données</a></li>\n",
    "  <li><a href=\"#dm\">Données manquantes</a></li>\n",
    "  <li><a href=\"#ndd\">Nettoyage des données</a></li>\n",
    "  <li><a href=\"#res\">Résultats de tests pcr</a></li>\n",
    "</ul>"
   ]
  },
  {
   "cell_type": "markdown",
   "metadata": {},
   "source": [
    "~11 secondes pour nettoyer les doublons"
   ]
  },
  {
   "cell_type": "code",
   "execution_count": 2,
   "metadata": {},
   "outputs": [
    {
     "name": "stdout",
     "output_type": "stream",
     "text": [
      "Time to detect duplicates :  11.595341682434082\n"
     ]
    }
   ],
   "source": [
    "start = time.time()\n",
    "df = dd.detect_duplicates(df_patient)\n",
    "print(\"Time to detect duplicates : \", time.time() - start)"
   ]
  },
  {
   "cell_type": "code",
   "execution_count": 3,
   "metadata": {},
   "outputs": [
    {
     "name": "stdout",
     "output_type": "stream",
     "text": [
      "Pourcentage de données dupliquées : 6.850 %\n"
     ]
    }
   ],
   "source": [
    "print(\"Pourcentage de données dupliquées : {:.3f} %\".format((len(df_patient) - len(df)) / len(df_patient) * 100))"
   ]
  },
  {
   "cell_type": "code",
   "execution_count": 4,
   "metadata": {},
   "outputs": [],
   "source": [
    "df_pcr.replace('N', 'Negative', inplace=True)\n",
    "df_pcr.replace('P', 'Positive', inplace=True)"
   ]
  },
  {
   "cell_type": "markdown",
   "metadata": {},
   "source": [
    "#### <p id='pres'> Présentation des données </p>"
   ]
  },
  {
   "cell_type": "code",
   "execution_count": 5,
   "metadata": {},
   "outputs": [
    {
     "name": "stdout",
     "output_type": "stream",
     "text": [
      "Taille du dataset (18630, 12)\n"
     ]
    },
    {
     "data": {
      "text/html": [
       "<div>\n",
       "<style scoped>\n",
       "    .dataframe tbody tr th:only-of-type {\n",
       "        vertical-align: middle;\n",
       "    }\n",
       "\n",
       "    .dataframe tbody tr th {\n",
       "        vertical-align: top;\n",
       "    }\n",
       "\n",
       "    .dataframe thead th {\n",
       "        text-align: right;\n",
       "    }\n",
       "</style>\n",
       "<table border=\"1\" class=\"dataframe\">\n",
       "  <thead>\n",
       "    <tr style=\"text-align: right;\">\n",
       "      <th></th>\n",
       "      <th>patient_id</th>\n",
       "      <th>given_name</th>\n",
       "      <th>surname</th>\n",
       "      <th>street_number</th>\n",
       "      <th>address_1</th>\n",
       "      <th>suburb</th>\n",
       "      <th>postcode</th>\n",
       "      <th>state</th>\n",
       "      <th>date_of_birth</th>\n",
       "      <th>age</th>\n",
       "      <th>phone_number</th>\n",
       "      <th>address_2</th>\n",
       "    </tr>\n",
       "  </thead>\n",
       "  <tbody>\n",
       "    <tr>\n",
       "      <td>0</td>\n",
       "      <td>221958</td>\n",
       "      <td>matisse</td>\n",
       "      <td>clarke</td>\n",
       "      <td>13.0</td>\n",
       "      <td>rene street</td>\n",
       "      <td>ellenbrook</td>\n",
       "      <td>2527</td>\n",
       "      <td>wa</td>\n",
       "      <td>19710708.0</td>\n",
       "      <td>32.0</td>\n",
       "      <td>08 86018809</td>\n",
       "      <td>westella</td>\n",
       "    </tr>\n",
       "    <tr>\n",
       "      <td>1</td>\n",
       "      <td>771155</td>\n",
       "      <td>joshua</td>\n",
       "      <td>elrick</td>\n",
       "      <td>23.0</td>\n",
       "      <td>andrea place</td>\n",
       "      <td>east preston</td>\n",
       "      <td>2074</td>\n",
       "      <td>nsw</td>\n",
       "      <td>19120921.0</td>\n",
       "      <td>34.0</td>\n",
       "      <td>02 97793152</td>\n",
       "      <td>foxdown</td>\n",
       "    </tr>\n",
       "    <tr>\n",
       "      <td>2</td>\n",
       "      <td>231932</td>\n",
       "      <td>alice</td>\n",
       "      <td>conboy</td>\n",
       "      <td>35.0</td>\n",
       "      <td>mountain circuit</td>\n",
       "      <td>prospect</td>\n",
       "      <td>2305</td>\n",
       "      <td>nsw</td>\n",
       "      <td>19810905.0</td>\n",
       "      <td>22.0</td>\n",
       "      <td>02 20403934</td>\n",
       "      <td>None</td>\n",
       "    </tr>\n",
       "    <tr>\n",
       "      <td>3</td>\n",
       "      <td>465838</td>\n",
       "      <td>sienna</td>\n",
       "      <td>craswell</td>\n",
       "      <td>39.0</td>\n",
       "      <td>cumberlegeicrescent</td>\n",
       "      <td>henty</td>\n",
       "      <td>3620</td>\n",
       "      <td>wa</td>\n",
       "      <td>19840809.0</td>\n",
       "      <td>30.0</td>\n",
       "      <td>02 62832318</td>\n",
       "      <td>jodane</td>\n",
       "    </tr>\n",
       "    <tr>\n",
       "      <td>4</td>\n",
       "      <td>359178</td>\n",
       "      <td>joshua</td>\n",
       "      <td>bastiaans</td>\n",
       "      <td>144.0</td>\n",
       "      <td>lowrie street</td>\n",
       "      <td>campbell town</td>\n",
       "      <td>4051</td>\n",
       "      <td>nsw</td>\n",
       "      <td>19340430.0</td>\n",
       "      <td>31.0</td>\n",
       "      <td>03 69359594</td>\n",
       "      <td>None</td>\n",
       "    </tr>\n",
       "  </tbody>\n",
       "</table>\n",
       "</div>"
      ],
      "text/plain": [
       "   patient_id given_name    surname  street_number            address_1  \\\n",
       "0      221958    matisse     clarke           13.0          rene street   \n",
       "1      771155     joshua     elrick           23.0         andrea place   \n",
       "2      231932      alice     conboy           35.0     mountain circuit   \n",
       "3      465838     sienna   craswell           39.0  cumberlegeicrescent   \n",
       "4      359178     joshua  bastiaans          144.0        lowrie street   \n",
       "\n",
       "          suburb postcode state  date_of_birth   age phone_number address_2  \n",
       "0     ellenbrook     2527    wa     19710708.0  32.0  08 86018809  westella  \n",
       "1   east preston     2074   nsw     19120921.0  34.0  02 97793152   foxdown  \n",
       "2       prospect     2305   nsw     19810905.0  22.0  02 20403934      None  \n",
       "3          henty     3620    wa     19840809.0  30.0  02 62832318    jodane  \n",
       "4  campbell town     4051   nsw     19340430.0  31.0  03 69359594      None  "
      ]
     },
     "execution_count": 5,
     "metadata": {},
     "output_type": "execute_result"
    }
   ],
   "source": [
    "print(\"Taille du dataset {}\".format(df.shape))\n",
    "df.head(5)"
   ]
  },
  {
   "cell_type": "code",
   "execution_count": 6,
   "metadata": {},
   "outputs": [
    {
     "name": "stdout",
     "output_type": "stream",
     "text": [
      "Taille du dataset avec résultats pcr (8800, 2)\n"
     ]
    },
    {
     "data": {
      "text/html": [
       "<div>\n",
       "<style scoped>\n",
       "    .dataframe tbody tr th:only-of-type {\n",
       "        vertical-align: middle;\n",
       "    }\n",
       "\n",
       "    .dataframe tbody tr th {\n",
       "        vertical-align: top;\n",
       "    }\n",
       "\n",
       "    .dataframe thead th {\n",
       "        text-align: right;\n",
       "    }\n",
       "</style>\n",
       "<table border=\"1\" class=\"dataframe\">\n",
       "  <thead>\n",
       "    <tr style=\"text-align: right;\">\n",
       "      <th></th>\n",
       "      <th>patient_id</th>\n",
       "      <th>pcr</th>\n",
       "    </tr>\n",
       "  </thead>\n",
       "  <tbody>\n",
       "    <tr>\n",
       "      <td>0</td>\n",
       "      <td>653091</td>\n",
       "      <td>Negative</td>\n",
       "    </tr>\n",
       "    <tr>\n",
       "      <td>1</td>\n",
       "      <td>347667</td>\n",
       "      <td>Negative</td>\n",
       "    </tr>\n",
       "    <tr>\n",
       "      <td>2</td>\n",
       "      <td>708481</td>\n",
       "      <td>Positive</td>\n",
       "    </tr>\n",
       "    <tr>\n",
       "      <td>3</td>\n",
       "      <td>148825</td>\n",
       "      <td>Negative</td>\n",
       "    </tr>\n",
       "    <tr>\n",
       "      <td>4</td>\n",
       "      <td>150081</td>\n",
       "      <td>Negative</td>\n",
       "    </tr>\n",
       "  </tbody>\n",
       "</table>\n",
       "</div>"
      ],
      "text/plain": [
       "   patient_id       pcr\n",
       "0      653091  Negative\n",
       "1      347667  Negative\n",
       "2      708481  Positive\n",
       "3      148825  Negative\n",
       "4      150081  Negative"
      ]
     },
     "execution_count": 6,
     "metadata": {},
     "output_type": "execute_result"
    }
   ],
   "source": [
    "print(\"Taille du dataset avec résultats pcr {}\".format(df_pcr.shape))\n",
    "df_pcr.head(5)"
   ]
  },
  {
   "cell_type": "markdown",
   "metadata": {},
   "source": [
    "#### <p id='dm'> Données manquantes </p>\n",
    "\n",
    "Il y a jusqu'à 10% de valeurs manquantes sauf pour l'adresse secondaire (tout le monde n'a pas une deuxième maison ce qui est normal)."
   ]
  },
  {
   "cell_type": "code",
   "execution_count": 7,
   "metadata": {},
   "outputs": [
    {
     "name": "stdout",
     "output_type": "stream",
     "text": [
      "Il y a 9.77 % de valeurs manquantes.\n",
      "5.16 % si on ne compte pas la 2e adresse qui a beaucoup de Nan de manière raisonnable.\n",
      "\n",
      "<class 'pandas.core.frame.DataFrame'>\n",
      "Int64Index: 18630 entries, 0 to 19999\n",
      "Data columns (total 12 columns):\n",
      "patient_id       18630 non-null int64\n",
      "given_name       18228 non-null object\n",
      "surname          18245 non-null object\n",
      "street_number    18263 non-null float64\n",
      "address_1        17904 non-null object\n",
      "suburb           18431 non-null object\n",
      "postcode         18440 non-null object\n",
      "state            16778 non-null object\n",
      "date_of_birth    16769 non-null float64\n",
      "age              14905 non-null float64\n",
      "phone_number     17770 non-null object\n",
      "address_2        7365 non-null object\n",
      "dtypes: float64(3), int64(1), object(8)\n",
      "memory usage: 1.8+ MB\n"
     ]
    }
   ],
   "source": [
    "print('Il y a {:.2f} % de valeurs manquantes.'.format(df.isna().sum().sum()*100 / (df.shape[0]*df.shape[1])))\n",
    "print('{:.2f} % si on ne compte pas la 2e adresse qui a beaucoup de Nan de manière raisonnable.\\n'.format(df[df.columns[:-1]].isna().sum().sum()*100 / (df.shape[0]*df[df.columns[:-1]].shape[1])))\n",
    "\n",
    "df.info()"
   ]
  },
  {
   "cell_type": "markdown",
   "metadata": {},
   "source": [
    "Il y a beaucoup de données manquantes dans l'address_2. C'est une information en soi, sur la richesse de la personne."
   ]
  },
  {
   "cell_type": "code",
   "execution_count": 8,
   "metadata": {},
   "outputs": [
    {
     "data": {
      "image/png": "[encoded data removed]",
      "text/plain": [
       "<Figure size 864x288 with 3 Axes>"
      ]
     },
     "metadata": {
      "needs_background": "light"
     },
     "output_type": "display_data"
    }
   ],
   "source": [
    "plt.figure(figsize=(12,4))\n",
    "\n",
    "plt.subplot(121)\n",
    "plt.grid()\n",
    "n_missing_values = df[df.columns[:-1]].isna().sum() / len(df) * 100\n",
    "plt.barh(n_missing_values.index, n_missing_values)\n",
    "plt.title('Percentage of missing values by column')\n",
    "plt.xlabel('% of missing values')\n",
    "\n",
    "plt.subplot(122)\n",
    "sns.heatmap(df[df.columns[:-1]].isna())\n",
    "plt.show()"
   ]
  },
  {
   "cell_type": "markdown",
   "metadata": {},
   "source": [
    "Pas de valeurs manquantes pour les résultats :"
   ]
  },
  {
   "cell_type": "code",
   "execution_count": 9,
   "metadata": {
    "scrolled": true
   },
   "outputs": [
    {
     "data": {
      "text/plain": [
       "patient_id    0\n",
       "pcr           0\n",
       "dtype: int64"
      ]
     },
     "execution_count": 9,
     "metadata": {},
     "output_type": "execute_result"
    }
   ],
   "source": [
    "df_pcr.isna().sum()"
   ]
  },
  {
   "cell_type": "markdown",
   "metadata": {},
   "source": [
    "Mais des doublons. Il peut s'agir d'erreurs de frappes/logiciel (exposé dans l'autre notebook) ou de tests à des moments différents. Je les laisse sans changements."
   ]
  },
  {
   "cell_type": "code",
   "execution_count": 10,
   "metadata": {},
   "outputs": [
    {
     "name": "stdout",
     "output_type": "stream",
     "text": [
      "Nombre de doublons de patient_id dans les résultats pcr : 35\n"
     ]
    }
   ],
   "source": [
    "print(\"Nombre de doublons de patient_id dans les résultats pcr :\", len(df_pcr) - len(df_pcr.patient_id.drop_duplicates()))"
   ]
  },
  {
   "cell_type": "markdown",
   "metadata": {},
   "source": [
    "#### <p id='ndd'> Nettoyage des données </p>"
   ]
  },
  {
   "cell_type": "markdown",
   "metadata": {},
   "source": [
    "Il y a 8 états en Australie"
   ]
  },
  {
   "cell_type": "code",
   "execution_count": 11,
   "metadata": {},
   "outputs": [
    {
     "name": "stderr",
     "output_type": "stream",
     "text": [
      "C:\\Users\\ericw\\Anaconda3\\lib\\site-packages\\pandas\\core\\indexing.py:494: SettingWithCopyWarning: \n",
      "A value is trying to be set on a copy of a slice from a DataFrame.\n",
      "Try using .loc[row_indexer,col_indexer] = value instead\n",
      "\n",
      "See the caveats in the documentation: http://pandas.pydata.org/pandas-docs/stable/user_guide/indexing.html#returning-a-view-versus-a-copy\n",
      "  self.obj[item] = s\n"
     ]
    }
   ],
   "source": [
    "states = list(df.state.value_counts().nlargest(8).index)\n",
    "df.loc[:, 'state'] = list(map(lambda x: dd.correct_state(x, states), df.loc[:, 'state'])) # dd = detect_duplicate.py (import)"
   ]
  },
  {
   "cell_type": "markdown",
   "metadata": {},
   "source": [
    "#### Il y a peu de personnes entre 14 et 17 ans (inclu) qui sont recensées dans ce dataset. Ceux qui ont environ 30 ans sont plus enclins à se faire dépister. On remarque aussi que des enfants de moins de 6 ans sont testés (0 an aussi). "
   ]
  },
  {
   "cell_type": "code",
   "execution_count": 12,
   "metadata": {},
   "outputs": [
    {
     "data": {
      "text/plain": [
       "<matplotlib.axes._subplots.AxesSubplot at 0x227ce31cf48>"
      ]
     },
     "execution_count": 12,
     "metadata": {},
     "output_type": "execute_result"
    },
    {
     "data": {
      "image/png": "[encoded data removed]",
      "text/plain": [
       "<Figure size 432x288 with 1 Axes>"
      ]
     },
     "metadata": {
      "needs_background": "light"
     },
     "output_type": "display_data"
    }
   ],
   "source": [
    "df.age.hist(bins=df.age.nunique()-1)"
   ]
  },
  {
   "cell_type": "markdown",
   "metadata": {},
   "source": [
    "Il y a une 'forte volonté' chez les 20-40 ans d'aller se faire dépister, suivis par les jeunes (non adultes). Les personnes ayant plus de 40 ans n'iraient pas se faire dépister ? Le manque de données vient peut-être de la manière (et/ou l'endroit) dont est collectée l'information. Si elle vient des hôpitaux, ou de stands nomades, s'il y a besoin d'un rendez-vous. On peut imaginer des scénarios où un segment de la population irait plus se faire tester qu'une autre."
   ]
  },
  {
   "cell_type": "markdown",
   "metadata": {},
   "source": [
    "Le nombre exact de personnes par âge :"
   ]
  },
  {
   "cell_type": "code",
   "execution_count": 13,
   "metadata": {
    "collapsed": true
   },
   "outputs": [
    {
     "name": "stdout",
     "output_type": "stream",
     "text": [
      "age #personnes\n",
      "0.0 1\n",
      "1.0 1\n",
      "2.0 4\n",
      "3.0 4\n",
      "4.0 6\n",
      "5.0 4\n",
      "6.0 28\n",
      "7.0 112\n",
      "8.0 164\n",
      "9.0 232\n",
      "10.0 238\n",
      "11.0 238\n",
      "12.0 237\n",
      "13.0 191\n",
      "14.0 12\n",
      "15.0 3\n",
      "16.0 1\n",
      "17.0 1\n",
      "19.0 244\n",
      "20.0 314\n",
      "21.0 364\n",
      "22.0 482\n",
      "23.0 526\n",
      "24.0 619\n",
      "25.0 685\n",
      "26.0 783\n",
      "27.0 878\n",
      "28.0 948\n",
      "29.0 954\n",
      "30.0 968\n",
      "31.0 957\n",
      "32.0 902\n",
      "33.0 844\n",
      "34.0 657\n",
      "35.0 552\n",
      "36.0 489\n",
      "37.0 366\n",
      "38.0 266\n",
      "39.0 216\n",
      "40.0 169\n",
      "41.0 116\n",
      "42.0 54\n",
      "43.0 33\n",
      "44.0 16\n",
      "45.0 13\n",
      "46.0 2\n",
      "47.0 2\n",
      "48.0 1\n",
      "49.0 3\n",
      "50.0 1\n",
      "62.0 1\n",
      "74.0 1\n",
      "83.0 1\n",
      "92.0 1\n"
     ]
    }
   ],
   "source": [
    "print('age #personnes')\n",
    "for age in np.sort(df.age.unique())[:-1]:\n",
    "    print(age, len(df[df.age == age]))"
   ]
  },
  {
   "cell_type": "markdown",
   "metadata": {},
   "source": [
    "Déduire l'âge à partir de la date de naissance en prenant l'année 2020 comme année de référence."
   ]
  },
  {
   "cell_type": "code",
   "execution_count": 14,
   "metadata": {
    "scrolled": true
   },
   "outputs": [],
   "source": [
    "birth_not_age = (df.age.isna()) & (~df.date_of_birth.isna())\n",
    "df.loc[birth_not_age, 'age'] = 2020 - df.loc[birth_not_age, 'date_of_birth'] // 10000"
   ]
  },
  {
   "cell_type": "code",
   "execution_count": 15,
   "metadata": {},
   "outputs": [
    {
     "data": {
      "text/plain": [
       "<matplotlib.axes._subplots.AxesSubplot at 0x227ce404e08>"
      ]
     },
     "execution_count": 15,
     "metadata": {},
     "output_type": "execute_result"
    },
    {
     "data": {
      "image/png": "[encoded data removed]",
      "text/plain": [
       "<Figure size 432x288 with 1 Axes>"
      ]
     },
     "metadata": {
      "needs_background": "light"
     },
     "output_type": "display_data"
    }
   ],
   "source": [
    "df.age.hist(bins=120)"
   ]
  },
  {
   "cell_type": "code",
   "execution_count": 16,
   "metadata": {},
   "outputs": [
    {
     "name": "stdout",
     "output_type": "stream",
     "text": [
      "Il y a 77 personnes de plus de 118 ans.\n"
     ]
    }
   ],
   "source": [
    "age = 118\n",
    "print('Il y a {} personnes de plus de {} ans.'.format(len(df[df.age > age]), age))"
   ]
  },
  {
   "cell_type": "markdown",
   "metadata": {},
   "source": [
    "Il y aurait des personnes de 120 ans. Oui il y en aurait si on en croit des records du monde, non il n'y en a pas autant en Australie. En ayant seulement la date de naissance, c'est le mieux qu'on puisse faire. Je ne les considère pas comme du bruit, il y a des erreurs de frappes sur l'année de naissance mais peut-être pas sur l'état (le lieu)."
   ]
  },
  {
   "cell_type": "markdown",
   "metadata": {},
   "source": [
    "Le traitement des NAs: aucun. On souhaite des données fiables plutôt que des données artificielles. Le dataset est déjà assez bruité par les typos lors de la saisie. <br/> On peut deviner l'état à partir du postcode ou du suburb mais ces 2 informations sont parfois contradictoires ou fausses."
   ]
  },
  {
   "cell_type": "markdown",
   "metadata": {},
   "source": [
    "### <p id='res'> Les tests pcr </p>"
   ]
  },
  {
   "cell_type": "code",
   "execution_count": 17,
   "metadata": {},
   "outputs": [],
   "source": [
    "merged_df = df.merge(df_pcr.drop_duplicates(subset='patient_id'), left_on='patient_id', right_on='patient_id')\n",
    "\n",
    "# Bucket 'age' column\n",
    "merged_df.age = pd.cut(merged_df.age, [0, 18, 25, 30, 35, 40, 60, 80, max(merged_df.age)])"
   ]
  },
  {
   "cell_type": "markdown",
   "metadata": {},
   "source": [
    "#### Résultat global des tests "
   ]
  },
  {
   "cell_type": "code",
   "execution_count": 18,
   "metadata": {},
   "outputs": [
    {
     "name": "stdout",
     "output_type": "stream",
     "text": [
      "Nombre de gens testés : 8302\n"
     ]
    },
    {
     "data": {
      "image/png": "[encoded data removed]",
      "text/plain": [
       "<Figure size 432x288 with 1 Axes>"
      ]
     },
     "metadata": {
      "needs_background": "light"
     },
     "output_type": "display_data"
    }
   ],
   "source": [
    "print('Nombre de gens testés :', len(merged_df))\n",
    "(merged_df.pcr.value_counts()/len(merged_df)*100).plot(kind='bar', rot=0)\n",
    "plt.title(\"General percentage of negative/positive test in Australia\")\n",
    "plt.ylabel(\"% of tested individuals\")\n",
    "plt.show()"
   ]
  },
  {
   "cell_type": "markdown",
   "metadata": {},
   "source": [
    "On trouve une proportion de 75% négatifs / 25% positifs"
   ]
  },
  {
   "cell_type": "markdown",
   "metadata": {},
   "source": [
    "#### Résultat par tranche d'âge\n",
    "\n",
    "Remarque : l'âge n'est pas forcément correct"
   ]
  },
  {
   "cell_type": "code",
   "execution_count": 19,
   "metadata": {},
   "outputs": [
    {
     "data": {
      "image/png": "[encoded data removed]",
      "text/plain": [
       "<Figure size 864x288 with 1 Axes>"
      ]
     },
     "metadata": {
      "needs_background": "light"
     },
     "output_type": "display_data"
    },
    {
     "data": {
      "image/png": "[encoded data removed]",
      "text/plain": [
       "<Figure size 864x288 with 1 Axes>"
      ]
     },
     "metadata": {
      "needs_background": "light"
     },
     "output_type": "display_data"
    }
   ],
   "source": [
    "merged_df.groupby('age')['patient_id'].count().plot(kind='bar', rot=0, figsize=(12,4))\n",
    "plt.title(\"Number of test by age cut\")\n",
    "plt.ylabel(\"Number of test\")\n",
    "\n",
    "\n",
    "test_by_age = merged_df.groupby(\"age\").pcr.value_counts().unstack()\n",
    "test_by_age = test_by_age.divide(test_by_age.sum(axis=1), axis=0)\n",
    "test_by_age.plot(kind='bar', rot=0, figsize=(12,4))\n",
    "plt.title(\"% of negative/postive test by age cut\")\n",
    "plt.ylabel(\"% test result\")\n",
    "plt.show()"
   ]
  },
  {
   "cell_type": "markdown",
   "metadata": {},
   "source": [
    "Lâge ne joue pas de rôle majeur sur le fait d'avoir attraper le virus (d'après ce dataset). <br/>On retrouve les proportions du résultat national (75/25)."
   ]
  },
  {
   "cell_type": "markdown",
   "metadata": {},
   "source": [
    "#### Résultat par état\n",
    "\n",
    "Remarque : il peut y avoir des habitants de l'état de 'wa' qui se retrouvent dans l'état de 'sa' et inversement au vu de la correction apportée."
   ]
  },
  {
   "cell_type": "code",
   "execution_count": 20,
   "metadata": {
    "scrolled": false
   },
   "outputs": [
    {
     "data": {
      "image/png": "[encoded data removed]",
      "text/plain": [
       "<Figure size 864x288 with 1 Axes>"
      ]
     },
     "metadata": {
      "needs_background": "light"
     },
     "output_type": "display_data"
    },
    {
     "data": {
      "image/png": "[encoded data removed]",
      "text/plain": [
       "<Figure size 864x288 with 1 Axes>"
      ]
     },
     "metadata": {
      "needs_background": "light"
     },
     "output_type": "display_data"
    }
   ],
   "source": [
    "merged_df.groupby('state')['patient_id'].count().plot(kind='bar', rot=0, figsize=(12,4))\n",
    "plt.title(\"Number of test by state\")\n",
    "plt.ylabel(\"Number of test\")\n",
    "plt.show()\n",
    "\n",
    "test_by_state = merged_df.groupby(\"state\").pcr.value_counts().unstack()\n",
    "test_by_state = test_by_state.divide(test_by_state.sum(axis=1), axis=0)\n",
    "test_by_state.plot(kind='bar', rot=0, figsize=(12,4))\n",
    "plt.title(\"% of negative/postive test by state\")\n",
    "plt.ylabel(\"% test result\")\n",
    "plt.show()"
   ]
  },
  {
   "cell_type": "markdown",
   "metadata": {},
   "source": [
    "Le nombre de test varie grandement selon les états."
   ]
  },
  {
   "cell_type": "markdown",
   "metadata": {},
   "source": [
    "Le virus a eu le même impact sur tous les états d'Australie. La différence du 3e bloc dans l'état de NT, vient probablement du fait qu'il y a très peu de tests comparé aux autres états. La proportion de positivité au test n'est pas fiable puisqu'elle peut varier très rapidement lorsque plus de tests sont effectués. Les habitants de NT ne sont pas moins affectés. <br/>On retrouve les proportions du résultat national (75/25)."
   ]
  },
  {
   "cell_type": "markdown",
   "metadata": {},
   "source": [
    "#### Résidence secondaire"
   ]
  },
  {
   "cell_type": "code",
   "execution_count": 21,
   "metadata": {},
   "outputs": [],
   "source": [
    "merged_df['second_house'] = merged_df.address_2.isna()"
   ]
  },
  {
   "cell_type": "code",
   "execution_count": 22,
   "metadata": {
    "scrolled": false
   },
   "outputs": [
    {
     "data": {
      "image/png": "[encoded data removed]",
      "text/plain": [
       "<Figure size 864x288 with 1 Axes>"
      ]
     },
     "metadata": {
      "needs_background": "light"
     },
     "output_type": "display_data"
    },
    {
     "data": {
      "image/png": "[encoded data removed]",
      "text/plain": [
       "<Figure size 864x288 with 1 Axes>"
      ]
     },
     "metadata": {
      "needs_background": "light"
     },
     "output_type": "display_data"
    }
   ],
   "source": [
    "merged_df.groupby('second_house')['patient_id'].count().plot(kind='bar', rot=0, figsize=(12,4))\n",
    "plt.title(\"Number of test by having second house or not\")\n",
    "plt.ylabel(\"Number of test\")\n",
    "plt.show()\n",
    "\n",
    "test_by_state = merged_df.groupby(\"second_house\").pcr.value_counts().unstack()\n",
    "test_by_state = test_by_state.divide(test_by_state.sum(axis=1), axis=0)\n",
    "test_by_state.plot(kind='bar', rot=0, figsize=(12,4))\n",
    "plt.title(\"% of negative/postive test by having second house or not\")\n",
    "plt.ylabel(\"% test result\")\n",
    "plt.show()"
   ]
  },
  {
   "cell_type": "markdown",
   "metadata": {},
   "source": [
    "Ceux qui ont une 2e résidence font plus de tests que ceux qui n'en ont pas. Les Australiens sont logiques puisqu'en se déplaçant, il y a plus de risque d'être contaminé. On ne voit cependant pas cette différence dans les résultats. <br/>On retrouve les proportions du résultat national (75/25)."
   ]
  },
  {
   "cell_type": "markdown",
   "metadata": {},
   "source": [
    "Bien entendu, toutes les analyses précédentes sont limitées par le dataset."
   ]
  }
 ],
 "metadata": {
  "kernelspec": {
   "display_name": "Python 3",
   "language": "python",
   "name": "python3"
  },
  "language_info": {
   "codemirror_mode": {
    "name": "ipython",
    "version": 3
   },
   "file_extension": ".py",
   "mimetype": "text/x-python",
   "name": "python",
   "nbconvert_exporter": "python",
   "pygments_lexer": "ipython3",
   "version": "3.7.4"
  }
 },
 "nbformat": 4,
 "nbformat_minor": 2
}

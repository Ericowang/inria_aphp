{
 "cells": [
  {
   "cell_type": "code",
   "execution_count": 1,
   "metadata": {},
   "outputs": [],
   "source": [
    "import pandas as pd\n",
    "from sqlalchemy import create_engine\n",
    "import numpy as np\n",
    "import matplotlib.pyplot as plt\n",
    "import seaborn as sns\n",
    "from enchant.utils import levenshtein\n",
    "\n",
    "engine = create_engine('sqlite:///data.db', echo=False)\n",
    "con = engine.connect()\n",
    "df_patient = pd.read_sql('select * from patient', con=con)\n",
    "df_pcr = pd.read_sql('select * from test', con=con)\n",
    "con.close()"
   ]
  },
  {
   "cell_type": "markdown",
   "metadata": {},
   "source": [
    "## Q :Ecrire un notebook jupyter qui met en évidence les problèmes de qualité de données (données incohérentes, données manquantes etc.)"
   ]
  },
  {
   "cell_type": "markdown",
   "metadata": {},
   "source": [
    "#### Données absentes pour chaque colonne"
   ]
  },
  {
   "cell_type": "code",
   "execution_count": 2,
   "metadata": {},
   "outputs": [
    {
     "data": {
      "image/png": "[encoded data removed]",
      "text/plain": [
       "<Figure size 432x288 with 2 Axes>"
      ]
     },
     "metadata": {
      "needs_background": "light"
     },
     "output_type": "display_data"
    },
    {
     "data": {
      "text/plain": [
       "patient_id           0\n",
       "given_name         440\n",
       "surname            425\n",
       "street_number      382\n",
       "address_1          796\n",
       "suburb             212\n",
       "postcode           199\n",
       "state             1990\n",
       "date_of_birth     2011\n",
       "age               3997\n",
       "phone_number       919\n",
       "address_2        12107\n",
       "dtype: int64"
      ]
     },
     "execution_count": 2,
     "metadata": {},
     "output_type": "execute_result"
    }
   ],
   "source": [
    "sns.heatmap(df_patient.isna())\n",
    "plt.show()\n",
    "\n",
    "df_patient.isna().sum()"
   ]
  },
  {
   "cell_type": "markdown",
   "metadata": {},
   "source": [
    "#### Types des colonnes : beaucoup de type 'object'. Les types des colonnes pourraient être plus précis : \n",
    "street number, postcode, age en int <br/>\n",
    "date_of_birth en format date au lieu de float"
   ]
  },
  {
   "cell_type": "code",
   "execution_count": 3,
   "metadata": {},
   "outputs": [
    {
     "name": "stdout",
     "output_type": "stream",
     "text": [
      "patient_id         int64\n",
      "given_name        object\n",
      "surname           object\n",
      "street_number    float64\n",
      "address_1         object\n",
      "suburb            object\n",
      "postcode          object\n",
      "state             object\n",
      "date_of_birth    float64\n",
      "age              float64\n",
      "phone_number      object\n",
      "address_2         object\n",
      "dtype: object\n"
     ]
    },
    {
     "data": {
      "text/html": [
       "<div>\n",
       "<style scoped>\n",
       "    .dataframe tbody tr th:only-of-type {\n",
       "        vertical-align: middle;\n",
       "    }\n",
       "\n",
       "    .dataframe tbody tr th {\n",
       "        vertical-align: top;\n",
       "    }\n",
       "\n",
       "    .dataframe thead th {\n",
       "        text-align: right;\n",
       "    }\n",
       "</style>\n",
       "<table border=\"1\" class=\"dataframe\">\n",
       "  <thead>\n",
       "    <tr style=\"text-align: right;\">\n",
       "      <th></th>\n",
       "      <th>patient_id</th>\n",
       "      <th>given_name</th>\n",
       "      <th>surname</th>\n",
       "      <th>street_number</th>\n",
       "      <th>address_1</th>\n",
       "      <th>suburb</th>\n",
       "      <th>postcode</th>\n",
       "      <th>state</th>\n",
       "      <th>date_of_birth</th>\n",
       "      <th>age</th>\n",
       "      <th>phone_number</th>\n",
       "      <th>address_2</th>\n",
       "    </tr>\n",
       "  </thead>\n",
       "  <tbody>\n",
       "    <tr>\n",
       "      <td>0</td>\n",
       "      <td>221958</td>\n",
       "      <td>matisse</td>\n",
       "      <td>clarke</td>\n",
       "      <td>13.0</td>\n",
       "      <td>rene street</td>\n",
       "      <td>ellenbrook</td>\n",
       "      <td>2527</td>\n",
       "      <td>wa</td>\n",
       "      <td>19710708.0</td>\n",
       "      <td>32.0</td>\n",
       "      <td>08 86018809</td>\n",
       "      <td>westella</td>\n",
       "    </tr>\n",
       "    <tr>\n",
       "      <td>1</td>\n",
       "      <td>771155</td>\n",
       "      <td>joshua</td>\n",
       "      <td>elrick</td>\n",
       "      <td>23.0</td>\n",
       "      <td>andrea place</td>\n",
       "      <td>east preston</td>\n",
       "      <td>2074</td>\n",
       "      <td>nsw</td>\n",
       "      <td>19120921.0</td>\n",
       "      <td>34.0</td>\n",
       "      <td>02 97793152</td>\n",
       "      <td>foxdown</td>\n",
       "    </tr>\n",
       "  </tbody>\n",
       "</table>\n",
       "</div>"
      ],
      "text/plain": [
       "   patient_id given_name surname  street_number     address_1        suburb  \\\n",
       "0      221958    matisse  clarke           13.0   rene street    ellenbrook   \n",
       "1      771155     joshua  elrick           23.0  andrea place  east preston   \n",
       "\n",
       "  postcode state  date_of_birth   age phone_number address_2  \n",
       "0     2527    wa     19710708.0  32.0  08 86018809  westella  \n",
       "1     2074   nsw     19120921.0  34.0  02 97793152   foxdown  "
      ]
     },
     "execution_count": 3,
     "metadata": {},
     "output_type": "execute_result"
    }
   ],
   "source": [
    "print(df_patient.dtypes)\n",
    "df_patient.head(2)"
   ]
  },
  {
   "cell_type": "code",
   "execution_count": 4,
   "metadata": {},
   "outputs": [
    {
     "name": "stdout",
     "output_type": "stream",
     "text": [
      "100.0 % des âges mentionnés sont des entiers\n"
     ]
    }
   ],
   "source": [
    "age_isint = df_patient.age.fillna(0).map(lambda x: int(x) - x == 0)\n",
    "\n",
    "# au cas où l'âge serait effectivement en float, 21.5 ans par exemple\n",
    "print(\"{} % des âges mentionnés sont des entiers\".format(sum(age_isint) / len(df_patient) * 100))"
   ]
  },
  {
   "cell_type": "markdown",
   "metadata": {},
   "source": [
    "#### Pour une étude statistique, il y a un manque de données pour les personnes entre 16 et 19 ans (approximativement)"
   ]
  },
  {
   "cell_type": "code",
   "execution_count": 5,
   "metadata": {},
   "outputs": [
    {
     "data": {
      "text/plain": [
       "<matplotlib.axes._subplots.AxesSubplot at 0x1702e833fc8>"
      ]
     },
     "execution_count": 5,
     "metadata": {},
     "output_type": "execute_result"
    },
    {
     "data": {
      "image/png": "[encoded data removed]",
      "text/plain": [
       "<Figure size 432x288 with 1 Axes>"
      ]
     },
     "metadata": {
      "needs_background": "light"
     },
     "output_type": "display_data"
    }
   ],
   "source": [
    "age = df_patient.age.fillna(0).astype(int)\n",
    "age[age != 0].hist(bins=age.nunique() - 1)"
   ]
  },
  {
   "cell_type": "markdown",
   "metadata": {},
   "source": [
    "### Histoire de déduction : l'information est là mais la donnée ne l'est pas\n",
    "Il y a des gens pour qui l'âge pourrait se déduire de la date de naissance mais est absente, même si l'année de naissance est parfois douteuse (index 19977 ci-dessous, né en 1901 ?). Il pourrait y avoir des typos dans la date de naissance."
   ]
  },
  {
   "cell_type": "code",
   "execution_count": 6,
   "metadata": {},
   "outputs": [
    {
     "data": {
      "text/html": [
       "<div>\n",
       "<style scoped>\n",
       "    .dataframe tbody tr th:only-of-type {\n",
       "        vertical-align: middle;\n",
       "    }\n",
       "\n",
       "    .dataframe tbody tr th {\n",
       "        vertical-align: top;\n",
       "    }\n",
       "\n",
       "    .dataframe thead th {\n",
       "        text-align: right;\n",
       "    }\n",
       "</style>\n",
       "<table border=\"1\" class=\"dataframe\">\n",
       "  <thead>\n",
       "    <tr style=\"text-align: right;\">\n",
       "      <th></th>\n",
       "      <th>date_of_birth</th>\n",
       "      <th>age</th>\n",
       "    </tr>\n",
       "  </thead>\n",
       "  <tbody>\n",
       "    <tr>\n",
       "      <td>14</td>\n",
       "      <td>19810810.0</td>\n",
       "      <td>NaN</td>\n",
       "    </tr>\n",
       "    <tr>\n",
       "      <td>18</td>\n",
       "      <td>19070704.0</td>\n",
       "      <td>NaN</td>\n",
       "    </tr>\n",
       "    <tr>\n",
       "      <td>30</td>\n",
       "      <td>19871005.0</td>\n",
       "      <td>NaN</td>\n",
       "    </tr>\n",
       "    <tr>\n",
       "      <td>32</td>\n",
       "      <td>19181231.0</td>\n",
       "      <td>NaN</td>\n",
       "    </tr>\n",
       "    <tr>\n",
       "      <td>33</td>\n",
       "      <td>19471129.0</td>\n",
       "      <td>NaN</td>\n",
       "    </tr>\n",
       "    <tr>\n",
       "      <td>...</td>\n",
       "      <td>...</td>\n",
       "      <td>...</td>\n",
       "    </tr>\n",
       "    <tr>\n",
       "      <td>19974</td>\n",
       "      <td>19381109.0</td>\n",
       "      <td>NaN</td>\n",
       "    </tr>\n",
       "    <tr>\n",
       "      <td>19977</td>\n",
       "      <td>19010116.0</td>\n",
       "      <td>NaN</td>\n",
       "    </tr>\n",
       "    <tr>\n",
       "      <td>19978</td>\n",
       "      <td>19470923.0</td>\n",
       "      <td>NaN</td>\n",
       "    </tr>\n",
       "    <tr>\n",
       "      <td>19981</td>\n",
       "      <td>19730511.0</td>\n",
       "      <td>NaN</td>\n",
       "    </tr>\n",
       "    <tr>\n",
       "      <td>19995</td>\n",
       "      <td>19570210.0</td>\n",
       "      <td>NaN</td>\n",
       "    </tr>\n",
       "  </tbody>\n",
       "</table>\n",
       "<p>3598 rows × 2 columns</p>\n",
       "</div>"
      ],
      "text/plain": [
       "       date_of_birth  age\n",
       "14        19810810.0  NaN\n",
       "18        19070704.0  NaN\n",
       "30        19871005.0  NaN\n",
       "32        19181231.0  NaN\n",
       "33        19471129.0  NaN\n",
       "...              ...  ...\n",
       "19974     19381109.0  NaN\n",
       "19977     19010116.0  NaN\n",
       "19978     19470923.0  NaN\n",
       "19981     19730511.0  NaN\n",
       "19995     19570210.0  NaN\n",
       "\n",
       "[3598 rows x 2 columns]"
      ]
     },
     "execution_count": 6,
     "metadata": {},
     "output_type": "execute_result"
    }
   ],
   "source": [
    "df_patient[(~df_patient.date_of_birth.isna()) & (df_patient.age.isna())][[\"date_of_birth\",\"age\"]]"
   ]
  },
  {
   "cell_type": "markdown",
   "metadata": {},
   "source": [
    "#### Un autre cas de déduction possible. En connaissant le numéro de rue et l'adresse, on peut trouver les autres éléments manquants 'suburb','postcode','state' qui encadrent le lieu exact."
   ]
  },
  {
   "cell_type": "code",
   "execution_count": 7,
   "metadata": {},
   "outputs": [
    {
     "data": {
      "text/html": [
       "<div>\n",
       "<style scoped>\n",
       "    .dataframe tbody tr th:only-of-type {\n",
       "        vertical-align: middle;\n",
       "    }\n",
       "\n",
       "    .dataframe tbody tr th {\n",
       "        vertical-align: top;\n",
       "    }\n",
       "\n",
       "    .dataframe thead th {\n",
       "        text-align: right;\n",
       "    }\n",
       "</style>\n",
       "<table border=\"1\" class=\"dataframe\">\n",
       "  <thead>\n",
       "    <tr style=\"text-align: right;\">\n",
       "      <th></th>\n",
       "      <th>street_number</th>\n",
       "      <th>address_1</th>\n",
       "      <th>suburb</th>\n",
       "      <th>postcode</th>\n",
       "      <th>state</th>\n",
       "    </tr>\n",
       "  </thead>\n",
       "  <tbody>\n",
       "    <tr>\n",
       "      <td>18</td>\n",
       "      <td>30.0</td>\n",
       "      <td>elsey street</td>\n",
       "      <td>None</td>\n",
       "      <td>3109</td>\n",
       "      <td>qld</td>\n",
       "    </tr>\n",
       "    <tr>\n",
       "      <td>95</td>\n",
       "      <td>12.0</td>\n",
       "      <td>newman morris circuit</td>\n",
       "      <td>coombabah</td>\n",
       "      <td>None</td>\n",
       "      <td>vic</td>\n",
       "    </tr>\n",
       "    <tr>\n",
       "      <td>121</td>\n",
       "      <td>5.0</td>\n",
       "      <td>bainton crescent</td>\n",
       "      <td>None</td>\n",
       "      <td>3289</td>\n",
       "      <td>vic</td>\n",
       "    </tr>\n",
       "    <tr>\n",
       "      <td>144</td>\n",
       "      <td>78.0</td>\n",
       "      <td>catani place</td>\n",
       "      <td>thornlie</td>\n",
       "      <td>None</td>\n",
       "      <td>nsw</td>\n",
       "    </tr>\n",
       "    <tr>\n",
       "      <td>161</td>\n",
       "      <td>22.0</td>\n",
       "      <td>kenyon circuit</td>\n",
       "      <td>brooweena</td>\n",
       "      <td>None</td>\n",
       "      <td>nsw</td>\n",
       "    </tr>\n",
       "    <tr>\n",
       "      <td>...</td>\n",
       "      <td>...</td>\n",
       "      <td>...</td>\n",
       "      <td>...</td>\n",
       "      <td>...</td>\n",
       "      <td>...</td>\n",
       "    </tr>\n",
       "    <tr>\n",
       "      <td>19819</td>\n",
       "      <td>18.0</td>\n",
       "      <td>newman morris circuit</td>\n",
       "      <td>None</td>\n",
       "      <td>4506</td>\n",
       "      <td>nsw</td>\n",
       "    </tr>\n",
       "    <tr>\n",
       "      <td>19823</td>\n",
       "      <td>3.0</td>\n",
       "      <td>parker street</td>\n",
       "      <td>ngunnawal</td>\n",
       "      <td>None</td>\n",
       "      <td>None</td>\n",
       "    </tr>\n",
       "    <tr>\n",
       "      <td>19893</td>\n",
       "      <td>123.0</td>\n",
       "      <td>morrell place</td>\n",
       "      <td>None</td>\n",
       "      <td>5083</td>\n",
       "      <td>nsw</td>\n",
       "    </tr>\n",
       "    <tr>\n",
       "      <td>19937</td>\n",
       "      <td>24.0</td>\n",
       "      <td>namatjira drive</td>\n",
       "      <td>None</td>\n",
       "      <td>2821</td>\n",
       "      <td>vic</td>\n",
       "    </tr>\n",
       "    <tr>\n",
       "      <td>19981</td>\n",
       "      <td>18.0</td>\n",
       "      <td>hampton circuit</td>\n",
       "      <td>None</td>\n",
       "      <td>2047</td>\n",
       "      <td>qld</td>\n",
       "    </tr>\n",
       "  </tbody>\n",
       "</table>\n",
       "<p>393 rows × 5 columns</p>\n",
       "</div>"
      ],
      "text/plain": [
       "       street_number              address_1     suburb postcode state\n",
       "18              30.0           elsey street       None     3109   qld\n",
       "95              12.0  newman morris circuit  coombabah     None   vic\n",
       "121              5.0       bainton crescent       None     3289   vic\n",
       "144             78.0           catani place   thornlie     None   nsw\n",
       "161             22.0         kenyon circuit  brooweena     None   nsw\n",
       "...              ...                    ...        ...      ...   ...\n",
       "19819           18.0  newman morris circuit       None     4506   nsw\n",
       "19823            3.0          parker street  ngunnawal     None  None\n",
       "19893          123.0          morrell place       None     5083   nsw\n",
       "19937           24.0        namatjira drive       None     2821   vic\n",
       "19981           18.0        hampton circuit       None     2047   qld\n",
       "\n",
       "[393 rows x 5 columns]"
      ]
     },
     "execution_count": 7,
     "metadata": {},
     "output_type": "execute_result"
    }
   ],
   "source": [
    "precise_location = ~df_patient.street_number.isna() & ~df_patient.address_1.isna()\n",
    "greater_location = df_patient.suburb.isna() | df_patient.postcode.isna()\n",
    "\n",
    "df_patient[precise_location & greater_location][df_patient.columns[3:8]]"
   ]
  },
  {
   "cell_type": "markdown",
   "metadata": {},
   "source": [
    "Tentative ratée : deviner le 'state' à partir de 'suburb' ou 'postcode'. Les 2 ne donnent pas le même 'state' le plus fréquent et lorsqu'ils s'accordent, une recherche google dit que ce n'est pas le bon 'state'."
   ]
  },
  {
   "cell_type": "code",
   "execution_count": 8,
   "metadata": {},
   "outputs": [
    {
     "data": {
      "text/html": [
       "<div>\n",
       "<style scoped>\n",
       "    .dataframe tbody tr th:only-of-type {\n",
       "        vertical-align: middle;\n",
       "    }\n",
       "\n",
       "    .dataframe tbody tr th {\n",
       "        vertical-align: top;\n",
       "    }\n",
       "\n",
       "    .dataframe thead th {\n",
       "        text-align: right;\n",
       "    }\n",
       "</style>\n",
       "<table border=\"1\" class=\"dataframe\">\n",
       "  <thead>\n",
       "    <tr style=\"text-align: right;\">\n",
       "      <th></th>\n",
       "      <th>patient_id</th>\n",
       "      <th>given_name</th>\n",
       "      <th>surname</th>\n",
       "      <th>street_number</th>\n",
       "      <th>address_1</th>\n",
       "      <th>suburb</th>\n",
       "      <th>postcode</th>\n",
       "      <th>state</th>\n",
       "      <th>date_of_birth</th>\n",
       "      <th>age</th>\n",
       "      <th>phone_number</th>\n",
       "      <th>address_2</th>\n",
       "    </tr>\n",
       "  </thead>\n",
       "  <tbody>\n",
       "    <tr>\n",
       "      <td>21</td>\n",
       "      <td>818315</td>\n",
       "      <td>ruby</td>\n",
       "      <td>grafton</td>\n",
       "      <td>97.0</td>\n",
       "      <td>dannevig place</td>\n",
       "      <td>st clair</td>\n",
       "      <td>3180</td>\n",
       "      <td>None</td>\n",
       "      <td>19180714.0</td>\n",
       "      <td>23.0</td>\n",
       "      <td>02 12194238</td>\n",
       "      <td>glenwarren</td>\n",
       "    </tr>\n",
       "    <tr>\n",
       "      <td>28</td>\n",
       "      <td>314176</td>\n",
       "      <td>talia</td>\n",
       "      <td>mitton</td>\n",
       "      <td>10.0</td>\n",
       "      <td>starling place</td>\n",
       "      <td>broken hill</td>\n",
       "      <td>2117</td>\n",
       "      <td>None</td>\n",
       "      <td>19520229.0</td>\n",
       "      <td>8.0</td>\n",
       "      <td>07 43440041</td>\n",
       "      <td>alexander's folly</td>\n",
       "    </tr>\n",
       "    <tr>\n",
       "      <td>36</td>\n",
       "      <td>970910</td>\n",
       "      <td>tabitha</td>\n",
       "      <td>friman</td>\n",
       "      <td>8.0</td>\n",
       "      <td>howitt street</td>\n",
       "      <td>bulimba</td>\n",
       "      <td>2800</td>\n",
       "      <td>None</td>\n",
       "      <td>19070513.0</td>\n",
       "      <td>40.0</td>\n",
       "      <td>07 30294882</td>\n",
       "      <td>None</td>\n",
       "    </tr>\n",
       "    <tr>\n",
       "      <td>38</td>\n",
       "      <td>249503</td>\n",
       "      <td>lucas</td>\n",
       "      <td>katsiavos</td>\n",
       "      <td>20.0</td>\n",
       "      <td>shakespeare crescent</td>\n",
       "      <td>nightcliff</td>\n",
       "      <td>4655</td>\n",
       "      <td>None</td>\n",
       "      <td>19921005.0</td>\n",
       "      <td>NaN</td>\n",
       "      <td>02 58639506</td>\n",
       "      <td>kangaroo grnd</td>\n",
       "    </tr>\n",
       "    <tr>\n",
       "      <td>45</td>\n",
       "      <td>184654</td>\n",
       "      <td>bailey</td>\n",
       "      <td>vanlaatum</td>\n",
       "      <td>NaN</td>\n",
       "      <td>mckail crescent</td>\n",
       "      <td>birtinya</td>\n",
       "      <td>3130</td>\n",
       "      <td>None</td>\n",
       "      <td>19370819.0</td>\n",
       "      <td>39.0</td>\n",
       "      <td>04 35418868</td>\n",
       "      <td>None</td>\n",
       "    </tr>\n",
       "    <tr>\n",
       "      <td>...</td>\n",
       "      <td>...</td>\n",
       "      <td>...</td>\n",
       "      <td>...</td>\n",
       "      <td>...</td>\n",
       "      <td>...</td>\n",
       "      <td>...</td>\n",
       "      <td>...</td>\n",
       "      <td>...</td>\n",
       "      <td>...</td>\n",
       "      <td>...</td>\n",
       "      <td>...</td>\n",
       "      <td>...</td>\n",
       "    </tr>\n",
       "    <tr>\n",
       "      <td>19952</td>\n",
       "      <td>916593</td>\n",
       "      <td>matthew</td>\n",
       "      <td>wht</td>\n",
       "      <td>NaN</td>\n",
       "      <td>altson circuit</td>\n",
       "      <td>midvale</td>\n",
       "      <td>3204</td>\n",
       "      <td>None</td>\n",
       "      <td>19120978.0</td>\n",
       "      <td>NaN</td>\n",
       "      <td>07 93690529</td>\n",
       "      <td>None</td>\n",
       "    </tr>\n",
       "    <tr>\n",
       "      <td>19956</td>\n",
       "      <td>770095</td>\n",
       "      <td>alexia</td>\n",
       "      <td>bridgland</td>\n",
       "      <td>18.0</td>\n",
       "      <td>harrison street</td>\n",
       "      <td>lismore</td>\n",
       "      <td>2020</td>\n",
       "      <td>None</td>\n",
       "      <td>NaN</td>\n",
       "      <td>NaN</td>\n",
       "      <td>07 09296938</td>\n",
       "      <td>None</td>\n",
       "    </tr>\n",
       "    <tr>\n",
       "      <td>19957</td>\n",
       "      <td>159919</td>\n",
       "      <td>zachary</td>\n",
       "      <td>mccarthy</td>\n",
       "      <td>28.0</td>\n",
       "      <td>None</td>\n",
       "      <td>greenacre</td>\n",
       "      <td>6027</td>\n",
       "      <td>None</td>\n",
       "      <td>19260810.0</td>\n",
       "      <td>23.0</td>\n",
       "      <td>08 10488162</td>\n",
       "      <td>None</td>\n",
       "    </tr>\n",
       "    <tr>\n",
       "      <td>19972</td>\n",
       "      <td>144588</td>\n",
       "      <td>jamie</td>\n",
       "      <td>chandler</td>\n",
       "      <td>128.0</td>\n",
       "      <td>rosman circuit</td>\n",
       "      <td>whitfield</td>\n",
       "      <td>3355</td>\n",
       "      <td>None</td>\n",
       "      <td>19051211.0</td>\n",
       "      <td>42.0</td>\n",
       "      <td>08 53766398</td>\n",
       "      <td>the willows</td>\n",
       "    </tr>\n",
       "    <tr>\n",
       "      <td>19973</td>\n",
       "      <td>301657</td>\n",
       "      <td>danielle</td>\n",
       "      <td>newport</td>\n",
       "      <td>611.0</td>\n",
       "      <td>ragless circuit</td>\n",
       "      <td>graceville</td>\n",
       "      <td>3199</td>\n",
       "      <td>None</td>\n",
       "      <td>19751023.0</td>\n",
       "      <td>38.0</td>\n",
       "      <td>02 47073119</td>\n",
       "      <td>rosemount</td>\n",
       "    </tr>\n",
       "  </tbody>\n",
       "</table>\n",
       "<p>1970 rows × 12 columns</p>\n",
       "</div>"
      ],
      "text/plain": [
       "       patient_id given_name    surname  street_number             address_1  \\\n",
       "21         818315       ruby    grafton           97.0        dannevig place   \n",
       "28         314176      talia     mitton           10.0        starling place   \n",
       "36         970910    tabitha     friman            8.0         howitt street   \n",
       "38         249503      lucas  katsiavos           20.0  shakespeare crescent   \n",
       "45         184654     bailey  vanlaatum            NaN       mckail crescent   \n",
       "...           ...        ...        ...            ...                   ...   \n",
       "19952      916593    matthew        wht            NaN        altson circuit   \n",
       "19956      770095     alexia  bridgland           18.0       harrison street   \n",
       "19957      159919    zachary   mccarthy           28.0                  None   \n",
       "19972      144588      jamie   chandler          128.0        rosman circuit   \n",
       "19973      301657   danielle    newport          611.0       ragless circuit   \n",
       "\n",
       "            suburb postcode state  date_of_birth   age phone_number  \\\n",
       "21        st clair     3180  None     19180714.0  23.0  02 12194238   \n",
       "28     broken hill     2117  None     19520229.0   8.0  07 43440041   \n",
       "36         bulimba     2800  None     19070513.0  40.0  07 30294882   \n",
       "38      nightcliff     4655  None     19921005.0   NaN  02 58639506   \n",
       "45        birtinya     3130  None     19370819.0  39.0  04 35418868   \n",
       "...            ...      ...   ...            ...   ...          ...   \n",
       "19952      midvale     3204  None     19120978.0   NaN  07 93690529   \n",
       "19956      lismore     2020  None            NaN   NaN  07 09296938   \n",
       "19957    greenacre     6027  None     19260810.0  23.0  08 10488162   \n",
       "19972    whitfield     3355  None     19051211.0  42.0  08 53766398   \n",
       "19973   graceville     3199  None     19751023.0  38.0  02 47073119   \n",
       "\n",
       "               address_2  \n",
       "21            glenwarren  \n",
       "28     alexander's folly  \n",
       "36                  None  \n",
       "38         kangaroo grnd  \n",
       "45                  None  \n",
       "...                  ...  \n",
       "19952               None  \n",
       "19956               None  \n",
       "19957               None  \n",
       "19972        the willows  \n",
       "19973          rosemount  \n",
       "\n",
       "[1970 rows x 12 columns]"
      ]
     },
     "execution_count": 8,
     "metadata": {},
     "output_type": "execute_result"
    }
   ],
   "source": [
    "df_patient[(df_patient.state.isna()) & (~df_patient.suburb.isna())]"
   ]
  },
  {
   "cell_type": "markdown",
   "metadata": {},
   "source": [
    "2e LIGNE du dessus : Plus fréquent 'state' pour le suburb 'broken hill' est NSW"
   ]
  },
  {
   "cell_type": "code",
   "execution_count": 9,
   "metadata": {},
   "outputs": [
    {
     "data": {
      "text/plain": [
       "vic     16\n",
       "nsw     16\n",
       "qld      8\n",
       "wa       5\n",
       "tas      5\n",
       "sa       3\n",
       "act      2\n",
       "nsxw     1\n",
       "nt       1\n",
       "ta       1\n",
       "Name: state, dtype: int64"
      ]
     },
     "execution_count": 9,
     "metadata": {},
     "output_type": "execute_result"
    }
   ],
   "source": [
    "df_patient[df_patient.suburb=='broken hill'].state.value_counts()"
   ]
  },
  {
   "cell_type": "markdown",
   "metadata": {},
   "source": [
    "2e LIGNE du dessus: Plus fréquent 'state' pour le postcode '2117' est WA. NSW en 3e position. La géographie est incohérente."
   ]
  },
  {
   "cell_type": "code",
   "execution_count": 10,
   "metadata": {},
   "outputs": [
    {
     "data": {
      "text/plain": [
       "wa     5\n",
       "vic    5\n",
       "nsw    4\n",
       "qld    3\n",
       "sa     2\n",
       "Name: state, dtype: int64"
      ]
     },
     "execution_count": 10,
     "metadata": {},
     "output_type": "execute_result"
    }
   ],
   "source": [
    "df_patient[df_patient.postcode=='2117'].state.value_counts()"
   ]
  },
  {
   "cell_type": "markdown",
   "metadata": {},
   "source": [
    "Il n'y a pas 100 'state' en Australie, il y en a 8. Typos !"
   ]
  },
  {
   "cell_type": "code",
   "execution_count": 11,
   "metadata": {},
   "outputs": [
    {
     "data": {
      "text/plain": [
       "nsw     6143\n",
       "vic     4352\n",
       "qld     3516\n",
       "wa      1580\n",
       "sa      1391\n",
       "        ... \n",
       "nze        1\n",
       "tab        1\n",
       "ng         1\n",
       "nswt       1\n",
       "taz        1\n",
       "Name: state, Length: 102, dtype: int64"
      ]
     },
     "execution_count": 11,
     "metadata": {},
     "output_type": "execute_result"
    }
   ],
   "source": [
    "df_patient.state.value_counts()"
   ]
  },
  {
   "cell_type": "markdown",
   "metadata": {},
   "source": [
    "Le 'suburb' et le 'postcode' peuvent être inversés."
   ]
  },
  {
   "cell_type": "code",
   "execution_count": 12,
   "metadata": {},
   "outputs": [
    {
     "data": {
      "text/html": [
       "<div>\n",
       "<style scoped>\n",
       "    .dataframe tbody tr th:only-of-type {\n",
       "        vertical-align: middle;\n",
       "    }\n",
       "\n",
       "    .dataframe tbody tr th {\n",
       "        vertical-align: top;\n",
       "    }\n",
       "\n",
       "    .dataframe thead th {\n",
       "        text-align: right;\n",
       "    }\n",
       "</style>\n",
       "<table border=\"1\" class=\"dataframe\">\n",
       "  <thead>\n",
       "    <tr style=\"text-align: right;\">\n",
       "      <th></th>\n",
       "      <th>patient_id</th>\n",
       "      <th>given_name</th>\n",
       "      <th>surname</th>\n",
       "      <th>street_number</th>\n",
       "      <th>address_1</th>\n",
       "      <th>suburb</th>\n",
       "      <th>postcode</th>\n",
       "      <th>state</th>\n",
       "      <th>date_of_birth</th>\n",
       "      <th>age</th>\n",
       "      <th>phone_number</th>\n",
       "      <th>address_2</th>\n",
       "    </tr>\n",
       "  </thead>\n",
       "  <tbody>\n",
       "    <tr>\n",
       "      <td>9653</td>\n",
       "      <td>690348</td>\n",
       "      <td>andrew</td>\n",
       "      <td>ryan</td>\n",
       "      <td>20.0</td>\n",
       "      <td>mainwaring rich circuit</td>\n",
       "      <td>3020</td>\n",
       "      <td>blacktown</td>\n",
       "      <td>wa</td>\n",
       "      <td>19760001.0</td>\n",
       "      <td>22.0</td>\n",
       "      <td>None</td>\n",
       "      <td>None</td>\n",
       "    </tr>\n",
       "  </tbody>\n",
       "</table>\n",
       "</div>"
      ],
      "text/plain": [
       "      patient_id given_name surname  street_number                address_1  \\\n",
       "9653      690348     andrew    ryan           20.0  mainwaring rich circuit   \n",
       "\n",
       "     suburb   postcode state  date_of_birth   age phone_number address_2  \n",
       "9653   3020  blacktown    wa     19760001.0  22.0         None      None  "
      ]
     },
     "execution_count": 12,
     "metadata": {},
     "output_type": "execute_result"
    }
   ],
   "source": [
    "df_patient[df_patient.suburb == '3020']"
   ]
  },
  {
   "cell_type": "markdown",
   "metadata": {},
   "source": [
    "#### Il n'y a pas de date du test pcr. La colonne de pcr n'est pas encodée de manière uniforme (N ou Negative, P ou Positive)."
   ]
  },
  {
   "cell_type": "code",
   "execution_count": 13,
   "metadata": {},
   "outputs": [
    {
     "data": {
      "text/html": [
       "<div>\n",
       "<style scoped>\n",
       "    .dataframe tbody tr th:only-of-type {\n",
       "        vertical-align: middle;\n",
       "    }\n",
       "\n",
       "    .dataframe tbody tr th {\n",
       "        vertical-align: top;\n",
       "    }\n",
       "\n",
       "    .dataframe thead th {\n",
       "        text-align: right;\n",
       "    }\n",
       "</style>\n",
       "<table border=\"1\" class=\"dataframe\">\n",
       "  <thead>\n",
       "    <tr style=\"text-align: right;\">\n",
       "      <th></th>\n",
       "      <th>patient_id</th>\n",
       "      <th>pcr</th>\n",
       "    </tr>\n",
       "  </thead>\n",
       "  <tbody>\n",
       "    <tr>\n",
       "      <td>0</td>\n",
       "      <td>653091</td>\n",
       "      <td>N</td>\n",
       "    </tr>\n",
       "    <tr>\n",
       "      <td>1</td>\n",
       "      <td>347667</td>\n",
       "      <td>Negative</td>\n",
       "    </tr>\n",
       "    <tr>\n",
       "      <td>2</td>\n",
       "      <td>708481</td>\n",
       "      <td>Positive</td>\n",
       "    </tr>\n",
       "    <tr>\n",
       "      <td>3</td>\n",
       "      <td>148825</td>\n",
       "      <td>Negative</td>\n",
       "    </tr>\n",
       "    <tr>\n",
       "      <td>4</td>\n",
       "      <td>150081</td>\n",
       "      <td>Negative</td>\n",
       "    </tr>\n",
       "    <tr>\n",
       "      <td>5</td>\n",
       "      <td>876796</td>\n",
       "      <td>N</td>\n",
       "    </tr>\n",
       "    <tr>\n",
       "      <td>6</td>\n",
       "      <td>169224</td>\n",
       "      <td>Negative</td>\n",
       "    </tr>\n",
       "    <tr>\n",
       "      <td>7</td>\n",
       "      <td>755915</td>\n",
       "      <td>P</td>\n",
       "    </tr>\n",
       "  </tbody>\n",
       "</table>\n",
       "</div>"
      ],
      "text/plain": [
       "   patient_id       pcr\n",
       "0      653091         N\n",
       "1      347667  Negative\n",
       "2      708481  Positive\n",
       "3      148825  Negative\n",
       "4      150081  Negative\n",
       "5      876796         N\n",
       "6      169224  Negative\n",
       "7      755915         P"
      ]
     },
     "execution_count": 13,
     "metadata": {},
     "output_type": "execute_result"
    }
   ],
   "source": [
    "df_pcr.head(8)"
   ]
  },
  {
   "cell_type": "markdown",
   "metadata": {},
   "source": [
    "Des doublons. Il peut s'agir d'erreurs de frappes/logiciel ou de tests à des moments différents."
   ]
  },
  {
   "cell_type": "code",
   "execution_count": 14,
   "metadata": {},
   "outputs": [
    {
     "name": "stdout",
     "output_type": "stream",
     "text": [
      "Nombre de doublons dans la dataframe pcr :  14\n",
      "Nombre de doublons de patient_id dans la dataframe pcr : 35\n"
     ]
    }
   ],
   "source": [
    "print(\"Nombre de doublons dans la dataframe pcr : \", len(df_pcr) - len(df_pcr.drop_duplicates()))\n",
    "print(\"Nombre de doublons de patient_id dans la dataframe pcr :\", len(df_pcr) - len(df_pcr.drop_duplicates(subset=\"patient_id\")))"
   ]
  },
  {
   "cell_type": "markdown",
   "metadata": {},
   "source": [
    "### Incohérences"
   ]
  },
  {
   "cell_type": "markdown",
   "metadata": {},
   "source": [
    "#### Des patient_id ne correspondent pas à la même personne."
   ]
  },
  {
   "cell_type": "code",
   "execution_count": 15,
   "metadata": {},
   "outputs": [
    {
     "data": {
      "text/html": [
       "<div>\n",
       "<style scoped>\n",
       "    .dataframe tbody tr th:only-of-type {\n",
       "        vertical-align: middle;\n",
       "    }\n",
       "\n",
       "    .dataframe tbody tr th {\n",
       "        vertical-align: top;\n",
       "    }\n",
       "\n",
       "    .dataframe thead th {\n",
       "        text-align: right;\n",
       "    }\n",
       "</style>\n",
       "<table border=\"1\" class=\"dataframe\">\n",
       "  <thead>\n",
       "    <tr style=\"text-align: right;\">\n",
       "      <th></th>\n",
       "      <th>patient_id</th>\n",
       "      <th>given_name</th>\n",
       "      <th>surname</th>\n",
       "      <th>street_number</th>\n",
       "      <th>address_1</th>\n",
       "      <th>suburb</th>\n",
       "      <th>postcode</th>\n",
       "      <th>state</th>\n",
       "      <th>date_of_birth</th>\n",
       "      <th>age</th>\n",
       "      <th>phone_number</th>\n",
       "      <th>address_2</th>\n",
       "    </tr>\n",
       "  </thead>\n",
       "  <tbody>\n",
       "    <tr>\n",
       "      <td>1456</td>\n",
       "      <td>119816</td>\n",
       "      <td>jed</td>\n",
       "      <td>rollins</td>\n",
       "      <td>63.0</td>\n",
       "      <td>mauldon street</td>\n",
       "      <td>macquarie fields</td>\n",
       "      <td>4169</td>\n",
       "      <td>nsw</td>\n",
       "      <td>19010805.0</td>\n",
       "      <td>NaN</td>\n",
       "      <td>07 73786737</td>\n",
       "      <td>None</td>\n",
       "    </tr>\n",
       "    <tr>\n",
       "      <td>2377</td>\n",
       "      <td>119816</td>\n",
       "      <td>sam</td>\n",
       "      <td>iasenzaniro</td>\n",
       "      <td>12.0</td>\n",
       "      <td>booroondara street</td>\n",
       "      <td>brighton</td>\n",
       "      <td>6153</td>\n",
       "      <td>sa</td>\n",
       "      <td>19621207.0</td>\n",
       "      <td>NaN</td>\n",
       "      <td>03 90915909</td>\n",
       "      <td>None</td>\n",
       "    </tr>\n",
       "  </tbody>\n",
       "</table>\n",
       "</div>"
      ],
      "text/plain": [
       "      patient_id given_name      surname  street_number           address_1  \\\n",
       "1456      119816        jed      rollins           63.0      mauldon street   \n",
       "2377      119816        sam  iasenzaniro           12.0  booroondara street   \n",
       "\n",
       "                suburb postcode state  date_of_birth  age phone_number  \\\n",
       "1456  macquarie fields     4169   nsw     19010805.0  NaN  07 73786737   \n",
       "2377          brighton     6153    sa     19621207.0  NaN  03 90915909   \n",
       "\n",
       "     address_2  \n",
       "1456      None  \n",
       "2377      None  "
      ]
     },
     "execution_count": 15,
     "metadata": {},
     "output_type": "execute_result"
    }
   ],
   "source": [
    "df_patient[df_patient.patient_id == 119816]"
   ]
  },
  {
   "cell_type": "markdown",
   "metadata": {},
   "source": [
    "#### Il y a des erreurs dans la date de naissance ou l'âge. OU le dataset a réuni des cas d'autrefois mais c'est improbable puisque l'exercice porte sur des personnes ayant fait un test PCR cette année. \n",
    "\n",
    "Ci-dessous la 1ère ligne dit qu'une personne née en 1992 aurait 40 ans, ce qui reviendrait à dire que nous sommes actuellement en 2032."
   ]
  },
  {
   "cell_type": "code",
   "execution_count": 16,
   "metadata": {},
   "outputs": [
    {
     "data": {
      "text/html": [
       "<div>\n",
       "<style scoped>\n",
       "    .dataframe tbody tr th:only-of-type {\n",
       "        vertical-align: middle;\n",
       "    }\n",
       "\n",
       "    .dataframe tbody tr th {\n",
       "        vertical-align: top;\n",
       "    }\n",
       "\n",
       "    .dataframe thead th {\n",
       "        text-align: right;\n",
       "    }\n",
       "</style>\n",
       "<table border=\"1\" class=\"dataframe\">\n",
       "  <thead>\n",
       "    <tr style=\"text-align: right;\">\n",
       "      <th></th>\n",
       "      <th>date_of_birth</th>\n",
       "      <th>age</th>\n",
       "      <th>ref_year</th>\n",
       "    </tr>\n",
       "  </thead>\n",
       "  <tbody>\n",
       "    <tr>\n",
       "      <td>16</td>\n",
       "      <td>19920702.0</td>\n",
       "      <td>40.0</td>\n",
       "      <td>2032</td>\n",
       "    </tr>\n",
       "    <tr>\n",
       "      <td>41</td>\n",
       "      <td>19970807.0</td>\n",
       "      <td>31.0</td>\n",
       "      <td>2028</td>\n",
       "    </tr>\n",
       "    <tr>\n",
       "      <td>44</td>\n",
       "      <td>19821125.0</td>\n",
       "      <td>42.0</td>\n",
       "      <td>2024</td>\n",
       "    </tr>\n",
       "    <tr>\n",
       "      <td>46</td>\n",
       "      <td>19990716.0</td>\n",
       "      <td>30.0</td>\n",
       "      <td>2029</td>\n",
       "    </tr>\n",
       "    <tr>\n",
       "      <td>52</td>\n",
       "      <td>19920110.0</td>\n",
       "      <td>30.0</td>\n",
       "      <td>2022</td>\n",
       "    </tr>\n",
       "    <tr>\n",
       "      <td>...</td>\n",
       "      <td>...</td>\n",
       "      <td>...</td>\n",
       "      <td>...</td>\n",
       "    </tr>\n",
       "    <tr>\n",
       "      <td>19871</td>\n",
       "      <td>19970218.0</td>\n",
       "      <td>30.0</td>\n",
       "      <td>2027</td>\n",
       "    </tr>\n",
       "    <tr>\n",
       "      <td>19889</td>\n",
       "      <td>19920811.0</td>\n",
       "      <td>33.0</td>\n",
       "      <td>2025</td>\n",
       "    </tr>\n",
       "    <tr>\n",
       "      <td>19902</td>\n",
       "      <td>19991003.0</td>\n",
       "      <td>32.0</td>\n",
       "      <td>2031</td>\n",
       "    </tr>\n",
       "    <tr>\n",
       "      <td>19930</td>\n",
       "      <td>19980718.0</td>\n",
       "      <td>30.0</td>\n",
       "      <td>2028</td>\n",
       "    </tr>\n",
       "    <tr>\n",
       "      <td>19949</td>\n",
       "      <td>19910237.0</td>\n",
       "      <td>32.0</td>\n",
       "      <td>2023</td>\n",
       "    </tr>\n",
       "  </tbody>\n",
       "</table>\n",
       "<p>1107 rows × 3 columns</p>\n",
       "</div>"
      ],
      "text/plain": [
       "       date_of_birth   age  ref_year\n",
       "16        19920702.0  40.0      2032\n",
       "41        19970807.0  31.0      2028\n",
       "44        19821125.0  42.0      2024\n",
       "46        19990716.0  30.0      2029\n",
       "52        19920110.0  30.0      2022\n",
       "...              ...   ...       ...\n",
       "19871     19970218.0  30.0      2027\n",
       "19889     19920811.0  33.0      2025\n",
       "19902     19991003.0  32.0      2031\n",
       "19930     19980718.0  30.0      2028\n",
       "19949     19910237.0  32.0      2023\n",
       "\n",
       "[1107 rows x 3 columns]"
      ]
     },
     "execution_count": 16,
     "metadata": {},
     "output_type": "execute_result"
    }
   ],
   "source": [
    "birth_age = df_patient.loc[(~df_patient.date_of_birth.isna()) & (~df_patient.age.isna()), [\"date_of_birth\", \"age\"]]\n",
    "birth_age[\"ref_year\"] = (birth_age.date_of_birth // 10000 + birth_age.age).astype(int)\n",
    "birth_age[(birth_age.ref_year < 1900) | (birth_age.ref_year > 2020)]"
   ]
  },
  {
   "cell_type": "markdown",
   "metadata": {},
   "source": [
    "#### Un suburb ne peut appartenir à plusieurs régions"
   ]
  },
  {
   "cell_type": "code",
   "execution_count": 17,
   "metadata": {},
   "outputs": [
    {
     "data": {
      "text/plain": [
       "nsw    3\n",
       "vic    3\n",
       "qld    3\n",
       "Name: state, dtype: int64"
      ]
     },
     "execution_count": 17,
     "metadata": {},
     "output_type": "execute_result"
    }
   ],
   "source": [
    "df_patient[df_patient.suburb=='bulimba'].state.value_counts()"
   ]
  },
  {
   "cell_type": "code",
   "execution_count": null,
   "metadata": {},
   "outputs": [],
   "source": []
  },
  {
   "cell_type": "code",
   "execution_count": null,
   "metadata": {},
   "outputs": [],
   "source": []
  },
  {
   "cell_type": "markdown",
   "metadata": {},
   "source": [
    "Pas de problème grossier pour les numéros de téléphone."
   ]
  },
  {
   "cell_type": "code",
   "execution_count": 18,
   "metadata": {},
   "outputs": [
    {
     "data": {
      "text/plain": [
       "04    3915\n",
       "03    3887\n",
       "08    3835\n",
       "02    3733\n",
       "07    3711\n",
       "Name: phone_number, dtype: int64"
      ]
     },
     "execution_count": 18,
     "metadata": {},
     "output_type": "execute_result"
    }
   ],
   "source": [
    "# 2 premiers chiffres du numéro de téléphone\n",
    "df_patient.phone_number.dropna().map(lambda x: x[:2]).value_counts()"
   ]
  },
  {
   "cell_type": "code",
   "execution_count": 19,
   "metadata": {},
   "outputs": [
    {
     "data": {
      "text/plain": [
       "11    19081\n",
       "Name: phone_number, dtype: int64"
      ]
     },
     "execution_count": 19,
     "metadata": {},
     "output_type": "execute_result"
    }
   ],
   "source": [
    "# Longueur OK\n",
    "df_patient.phone_number.dropna().map(lambda x: len(x)).value_counts()"
   ]
  },
  {
   "cell_type": "code",
   "execution_count": 20,
   "metadata": {},
   "outputs": [],
   "source": [
    "def all_numbers(phone_number):\n",
    "    '''Check if ONE phone number is composed of numbers only, excluding the space'''\n",
    "    number = phone_number.replace(\" \", \"\")\n",
    "    return sum(list(map(lambda x: ord('0') <= ord(x) & ord(x) <= ord('9') , number))) == len(number)"
   ]
  },
  {
   "cell_type": "code",
   "execution_count": 21,
   "metadata": {},
   "outputs": [
    {
     "data": {
      "text/plain": [
       "1.0"
      ]
     },
     "execution_count": 21,
     "metadata": {},
     "output_type": "execute_result"
    }
   ],
   "source": [
    "# Tous sont composés de chiffres uniquement, en excluant l'espace entre le préfixe\n",
    "sum(df_patient.phone_number.dropna().map(all_numbers)) / len(df_patient.phone_number.dropna())"
   ]
  }
 ],
 "metadata": {
  "kernelspec": {
   "display_name": "Python 3",
   "language": "python",
   "name": "python3"
  },
  "language_info": {
   "codemirror_mode": {
    "name": "ipython",
    "version": 3
   },
   "file_extension": ".py",
   "mimetype": "text/x-python",
   "name": "python",
   "nbconvert_exporter": "python",
   "pygments_lexer": "ipython3",
   "version": "3.7.4"
  }
 },
 "nbformat": 4,
 "nbformat_minor": 2
}
